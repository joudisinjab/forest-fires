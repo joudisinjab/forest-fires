{
 "cells": [
  {
   "cell_type": "markdown",
   "metadata": {
    "id": "OE4FoDBm-ULU"
   },
   "source": [
    "### Preparation\n",
    "\n",
    "The dataset is related to Forest Fires. For more info: https://archive.ics.uci.edu/ml/datasets/forest+fires"
   ]
  },
  {
   "cell_type": "code",
   "execution_count": 64,
   "metadata": {
    "id": "I6UpceuN_dle"
   },
   "outputs": [],
   "source": [
    "import pandas as pd\n",
    "import matplotlib.pyplot as plt\n",
    "import numpy as np\n",
    "import seaborn as sns"
   ]
  },
  {
   "cell_type": "markdown",
   "metadata": {
    "id": "XaX5w73fK8HZ"
   },
   "source": [
    "# Q1.\n",
    "\n",
    "Read the csv file from the this URL https://archive.ics.uci.edu/ml/machine-learning-databases/forest-fires/forestfires.csv. Save it to a data frame called Forest. Check the first five records. (10 points)\n",
    "[Relevant Pandas API](https://pandas.pydata.org/docs/reference/api/pandas.read_csv.html)\n"
   ]
  },
  {
   "cell_type": "code",
   "execution_count": 6,
   "metadata": {
    "id": "LeBUg3jMLAsG"
   },
   "outputs": [
    {
     "name": "stdout",
     "output_type": "stream",
     "text": [
      "The first 5 records of the data set Forest are shown below:\n",
      "\n",
      "   X  Y month  day  FFMC   DMC     DC  ISI  temp  RH  wind  rain  area\n",
      "0  7  5   mar  fri  86.2  26.2   94.3  5.1   8.2  51   6.7   0.0   0.0\n",
      "1  7  4   oct  tue  90.6  35.4  669.1  6.7  18.0  33   0.9   0.0   0.0\n",
      "2  7  4   oct  sat  90.6  43.7  686.9  6.7  14.6  33   1.3   0.0   0.0\n",
      "3  8  6   mar  fri  91.7  33.3   77.5  9.0   8.3  97   4.0   0.2   0.0\n",
      "4  8  6   mar  sun  89.3  51.3  102.2  9.6  11.4  99   1.8   0.0   0.0 \n",
      "\n",
      "The data types of the variables are shown below: \n",
      "\n",
      "X          int64\n",
      "Y          int64\n",
      "month     object\n",
      "day       object\n",
      "FFMC     float64\n",
      "DMC      float64\n",
      "DC       float64\n",
      "ISI      float64\n",
      "temp     float64\n",
      "RH         int64\n",
      "wind     float64\n",
      "rain     float64\n",
      "area     float64\n",
      "dtype: object\n"
     ]
    }
   ],
   "source": [
    "### Reading CSV File and Loading into Data Frame\n",
    "forest = pd.read_csv('https://archive.ics.uci.edu/ml/machine-learning-databases/forest-fires/forestfires.csv')\n",
    "\n",
    "### Exploring the dataset\n",
    "print(f\"The first 5 records of the data set Forest are shown below:\\n\")\n",
    "print(forest.head(), \"\\n\")\n",
    "\n",
    "print(\"The data types of the variables are shown below: \\n\")\n",
    "print(forest.dtypes)"
   ]
  },
  {
   "cell_type": "code",
   "execution_count": 7,
   "metadata": {},
   "outputs": [
    {
     "name": "stdout",
     "output_type": "stream",
     "text": [
      "General descriptive statistics about the data set Forest\n",
      "\n",
      "                X           Y        FFMC         DMC          DC         ISI  \\\n",
      "count  517.000000  517.000000  517.000000  517.000000  517.000000  517.000000   \n",
      "mean     4.669246    4.299807   90.644681  110.872340  547.940039    9.021663   \n",
      "std      2.313778    1.229900    5.520111   64.046482  248.066192    4.559477   \n",
      "min      1.000000    2.000000   18.700000    1.100000    7.900000    0.000000   \n",
      "25%      3.000000    4.000000   90.200000   68.600000  437.700000    6.500000   \n",
      "50%      4.000000    4.000000   91.600000  108.300000  664.200000    8.400000   \n",
      "75%      7.000000    5.000000   92.900000  142.400000  713.900000   10.800000   \n",
      "max      9.000000    9.000000   96.200000  291.300000  860.600000   56.100000   \n",
      "\n",
      "             temp          RH        wind        rain         area  \n",
      "count  517.000000  517.000000  517.000000  517.000000   517.000000  \n",
      "mean    18.889168   44.288201    4.017602    0.021663    12.847292  \n",
      "std      5.806625   16.317469    1.791653    0.295959    63.655818  \n",
      "min      2.200000   15.000000    0.400000    0.000000     0.000000  \n",
      "25%     15.500000   33.000000    2.700000    0.000000     0.000000  \n",
      "50%     19.300000   42.000000    4.000000    0.000000     0.520000  \n",
      "75%     22.800000   53.000000    4.900000    0.000000     6.570000  \n",
      "max     33.300000  100.000000    9.400000    6.400000  1090.840000   \n",
      "\n"
     ]
    }
   ],
   "source": [
    "# Printing Descriptive Statistics\n",
    "print(\"General descriptive statistics about the data set Forest\\n\") \n",
    "print(forest.describe(), \"\\n\")"
   ]
  },
  {
   "cell_type": "code",
   "execution_count": 154,
   "metadata": {},
   "outputs": [
    {
     "name": "stdout",
     "output_type": "stream",
     "text": [
      "The names of the columns are:\n",
      "Index(['X', 'Y', 'month', 'day', 'FFMC', 'DMC', 'DC', 'ISI', 'temp', 'RH',\n",
      "       'wind', 'rain', 'area', 'fires'],\n",
      "      dtype='object')\n"
     ]
    }
   ],
   "source": [
    "print(\"The names of the columns are:\")\n",
    "print(forest.columns)"
   ]
  },
  {
   "cell_type": "markdown",
   "metadata": {
    "id": "WHeMpY0-LS7i"
   },
   "source": [
    "# Q2.\n",
    "How many observations are there in the dataset? How many observations are there with both a significant fire (burned area > 0) and rain? (10 points) [Relevent API1](https://pandas.pydata.org/pandas-docs/version/0.23/generated/pandas.DataFrame.shape.html) , [Relevant Pandas API 2](https://pandas.pydata.org/docs/getting_started/intro_tutorials/03_subset_data.html#)"
   ]
  },
  {
   "cell_type": "code",
   "execution_count": 156,
   "metadata": {},
   "outputs": [
    {
     "name": "stdout",
     "output_type": "stream",
     "text": [
      "\n",
      "The number of observations in the data set are: 517\n"
     ]
    }
   ],
   "source": [
    "# Determining Number of Observations in the Dataset\n",
    "\n",
    "num_rows = forest.shape[0]\n",
    "\n",
    "print(f'\\nThe number of observations in the data set are: {num_rows}')"
   ]
  },
  {
   "cell_type": "code",
   "execution_count": 11,
   "metadata": {
    "id": "hTabQVd2BRdm"
   },
   "outputs": [
    {
     "name": "stdout",
     "output_type": "stream",
     "text": [
      "\n",
      "The number of observations that contain both a significant fire burned area and rain values > 0: 2\n"
     ]
    }
   ],
   "source": [
    "# Determining observations with both a significant fire (burned area > 0) and rain > 0\n",
    "\n",
    "sig_fire_and_rain = forest[(forest[\"area\"] > 0) & (forest[\"rain\"] > 0)]\n",
    "sig_fire_rain_rows = sig_fire_and_rain.shape[0]\n",
    "\n",
    "print(f'\\nThe number of observations that contain both a significant fire burned area and rain values > 0: {sig_fire_rain_rows}')"
   ]
  },
  {
   "cell_type": "markdown",
   "metadata": {
    "id": "IDRxMGfWLg_O"
   },
   "source": [
    "# Q3.\n",
    "Show the columns month, day, area of all the observations with a significant fire (burned area >0 ). (10 points) [Relevant Pandas API](https://pandas.pydata.org/docs/reference/api/pandas.DataFrame.loc.html)"
   ]
  },
  {
   "cell_type": "code",
   "execution_count": 13,
   "metadata": {
    "id": "afEiTeRTLqOc"
   },
   "outputs": [
    {
     "name": "stdout",
     "output_type": "stream",
     "text": [
      "There are 270 observations with a significant fire burned area > 0\n"
     ]
    }
   ],
   "source": [
    "# Extracting number of observations with significant fire burned area > 0 for subset of columns\n",
    "\n",
    "sig_fire = forest.loc[forest[\"area\"] > 0, [\"month\", \"day\", \"area\"]]\n",
    "sig_fire_rows = sig_fire.shape[0]\n",
    "\n",
    "print(f\"There are {sig_fire_rows} observations with a significant fire burned area > 0\")"
   ]
  },
  {
   "cell_type": "code",
   "execution_count": 14,
   "metadata": {},
   "outputs": [
    {
     "name": "stdout",
     "output_type": "stream",
     "text": [
      "Observations with significant fire burned area > 0\n",
      "\n",
      "     month  day   area\n",
      "138   jul  tue   0.36\n",
      "139   sep  tue   0.43\n",
      "140   sep  mon   0.47\n",
      "141   aug  wed   0.55\n",
      "142   aug  fri   0.61\n",
      "..    ...  ...    ...\n",
      "509   aug  fri   2.17\n",
      "510   aug  fri   0.43\n",
      "512   aug  sun   6.44\n",
      "513   aug  sun  54.29\n",
      "514   aug  sun  11.16\n",
      "\n",
      "[270 rows x 3 columns]\n"
     ]
    }
   ],
   "source": [
    "# Showing all observations with columns [ month, day, area] with a significant fire burned area > 0\n",
    "\n",
    "print(\"Observations with significant fire burned area > 0\\n\\n\", sig_fire.head(271))"
   ]
  },
  {
   "cell_type": "markdown",
   "metadata": {
    "id": "XrNuWHNOMq5p"
   },
   "source": [
    "# Q4.\n",
    "How large are the five largest fires (i.e. having largest area)? (10 points) [Relevant API](https://pandas.pydata.org/docs/reference/api/pandas.DataFrame.sort_values.html)"
   ]
  },
  {
   "cell_type": "code",
   "execution_count": 160,
   "metadata": {
    "id": "k8iFRuVMM1AI"
   },
   "outputs": [
    {
     "name": "stdout",
     "output_type": "stream",
     "text": [
      "The 5 largest fire burned areas in hecatares are shown below:\n",
      "         area\n",
      "238  1090.84\n",
      "415   746.28\n",
      "479   278.53\n",
      "237   212.88\n",
      "236   200.94\n",
      "\n",
      "The largest fire burned area was 1090.84 hectares.\n"
     ]
    }
   ],
   "source": [
    "# Sorting the dataset to determine top 5 largest burned area\n",
    "sorted_fires = forest.sort_values(by=\"area\", ascending = False).head()\n",
    "\n",
    "# Printing subset of the forest data containing the values of the largest burned area\n",
    "print(\"The 5 largest fire burned areas in hecatares are shown below:\\n\", sorted_fires[[\"area\"]])\n",
    "\n",
    "# Displaying the largest fire burned area\n",
    "largest_fire = sorted_fires.iloc[0]['area']\n",
    "print(f\"\\nThe largest fire burned area was {largest_fire} hectares.\")"
   ]
  },
  {
   "cell_type": "markdown",
   "metadata": {
    "id": "3brpNkeAM9r_"
   },
   "source": [
    "# Q5.\n",
    "For the records you obtained from the previous question, what are the corresponding month, temp, RH, wind, rain, area? (10 points)"
   ]
  },
  {
   "cell_type": "code",
   "execution_count": 162,
   "metadata": {
    "id": "P0HxQEC5NHG9"
   },
   "outputs": [
    {
     "name": "stdout",
     "output_type": "stream",
     "text": [
      "Subset of data that includes the largest fire burned areas in hecatares are shown below:\n",
      "     month  temp  RH  wind  rain     area\n",
      "238   sep  25.1  27   4.0   0.0  1090.84\n",
      "415   aug  27.5  27   4.9   0.0   746.28\n",
      "479   jul  22.6  57   4.9   0.0   278.53\n",
      "237   sep  18.8  40   2.2   0.0   212.88\n",
      "236   sep  18.2  46   1.8   0.0   200.94\n"
     ]
    }
   ],
   "source": [
    "# Re-writing sorted data set variable\n",
    "sorted_fires = forest.sort_values(by=\"area\", ascending = False).head()\n",
    "\n",
    "# Extracting columns of interest\n",
    "expanded_sorted_fires = sorted_fires[[\"month\",\"temp\",\"RH\",\"wind\",\"rain\",\"area\"]]\n",
    "\n",
    "# Printing subset of the forest data containing the values of the largest burned area\n",
    "print(\"Subset of data that includes the largest fire burned areas in hecatares are shown below:\\n\", expanded_sorted_fires)\n"
   ]
  },
  {
   "cell_type": "markdown",
   "metadata": {
    "id": "o4UaGldlNy5w"
   },
   "source": [
    "# Q6.\n",
    "For the whole dataset, reorder factor levels of month to be from Jan to Dec. (10 points)"
   ]
  },
  {
   "cell_type": "code",
   "execution_count": 20,
   "metadata": {},
   "outputs": [
    {
     "name": "stdout",
     "output_type": "stream",
     "text": [
      "The original data type of values in Month column: object\n"
     ]
    }
   ],
   "source": [
    "# Checking the data type of column month \n",
    "\n",
    "print(\"The original data type of values in Month column:\", forest['month'].dtype)"
   ]
  },
  {
   "cell_type": "code",
   "execution_count": 21,
   "metadata": {},
   "outputs": [
    {
     "name": "stdout",
     "output_type": "stream",
     "text": [
      "The current data type of values in Month column: category\n"
     ]
    }
   ],
   "source": [
    "# Converting from object type to categorical variable\n",
    "\n",
    "forest['month'] = forest['month'].astype('category')\n",
    "\n",
    "print(\"The current data type of values in Month column:\", forest['month'].dtype)"
   ]
  },
  {
   "cell_type": "code",
   "execution_count": 22,
   "metadata": {
    "id": "rZvskgbfN0x2"
   },
   "outputs": [
    {
     "name": "stdout",
     "output_type": "stream",
     "text": [
      "Original order of factor levels in column Month: Index(['apr', 'aug', 'dec', 'feb', 'jan', 'jul', 'jun', 'mar', 'may', 'nov',\n",
      "       'oct', 'sep'],\n",
      "      dtype='object')\n"
     ]
    }
   ],
   "source": [
    "#Then, checking the factor levels order of the month variable \n",
    "\n",
    "month_orig = forest['month'].cat.categories\n",
    "\n",
    "print(\"Original order of factor levels in column Month:\", month_orig)"
   ]
  },
  {
   "cell_type": "code",
   "execution_count": 23,
   "metadata": {},
   "outputs": [
    {
     "name": "stdout",
     "output_type": "stream",
     "text": [
      "Current order of factor levels in column Month: Index(['jan', 'feb', 'mar', 'apr', 'may', 'jun', 'jul', 'aug', 'sep', 'oct',\n",
      "       'nov', 'dec'],\n",
      "      dtype='object')\n"
     ]
    }
   ],
   "source": [
    "# Reording the factor levels of column Month to be from Jan-Dec\n",
    "months_order = ['jan', 'feb', 'mar', 'apr', 'may', 'jun', 'jul', 'aug', 'sep', 'oct', 'nov', 'dec']\n",
    "\n",
    "forest['month']= pd.Categorical(forest['month'], categories = months_order, ordered= True)\n",
    "\n",
    "month_current = forest['month'].cat.categories\n",
    "\n",
    "print(\"Current order of factor levels in column Month:\", month_current)"
   ]
  },
  {
   "cell_type": "code",
   "execution_count": 164,
   "metadata": {},
   "outputs": [
    {
     "name": "stdout",
     "output_type": "stream",
     "text": [
      "     X  Y month  day  FFMC   DMC     DC  ISI  temp   RH  wind  rain   area  \\\n",
      "104  2  4   jan  sat  82.1   3.7    9.3  2.9   5.3   78   3.1   0.0   0.00   \n",
      "379  4  5   jan  sun  18.7   1.1  171.4  0.0   5.2  100   0.9   0.0   0.00   \n",
      "96   3  4   feb  sat  83.9   8.0   30.2  2.6  12.7   48   1.8   0.0   0.00   \n",
      "59   2  2   feb  fri  86.6  13.2   43.0  5.3  12.3   51   0.9   0.0   0.00   \n",
      "202  7  4   feb  sun  83.9   8.7   32.1  2.1   8.8   68   2.2   0.0  13.05   \n",
      "\n",
      "     fires  \n",
      "104  FALSE  \n",
      "379  FALSE  \n",
      "96   FALSE  \n",
      "59   FALSE  \n",
      "202   TRUE  \n"
     ]
    }
   ],
   "source": [
    "# Checking to see if values have been sorted according to factor levels\n",
    "\n",
    "sorted_by_month = forest.sort_values(by = 'month')\n",
    "\n",
    "print(sorted_by_month.head())"
   ]
  },
  {
   "cell_type": "markdown",
   "metadata": {
    "id": "bqIvFCPgNF-_"
   },
   "source": [
    "# Q7.\n",
    "Add one column to the data indicating whether a fire occurred for each observation ('TRUE' for area>0 and 'FALSE' for area==0). (10 points)"
   ]
  },
  {
   "cell_type": "code",
   "execution_count": 166,
   "metadata": {
    "id": "vfjm8H5COteH"
   },
   "outputs": [
    {
     "name": "stdout",
     "output_type": "stream",
     "text": [
      "   area  fires\n",
      "0   0.0  False\n",
      "1   0.0  False\n",
      "2   0.0  False\n",
      "3   0.0  False\n",
      "4   0.0  False\n",
      "5   0.0  False\n",
      "6   0.0  False\n",
      "7   0.0  False\n",
      "8   0.0  False\n",
      "9   0.0  False\n",
      "      area  fires\n",
      "507   0.00  False\n",
      "508   0.00  False\n",
      "509   2.17   True\n",
      "510   0.43   True\n",
      "511   0.00  False\n",
      "512   6.44   True\n",
      "513  54.29   True\n",
      "514  11.16   True\n",
      "515   0.00  False\n",
      "516   0.00  False\n"
     ]
    }
   ],
   "source": [
    "# Creating a new column Fires and applying condition\n",
    "\n",
    "forest['fires'] = np.where(forest['area']>0, True, False)\n",
    "\n",
    "# Checking observations to ensure condition is met \n",
    "print(forest[['area','fires']].head(10))\n",
    "\n",
    "print(forest[['area','fires']].tail(10))"
   ]
  },
  {
   "cell_type": "markdown",
   "metadata": {
    "id": "LneIVMYfPTYH"
   },
   "source": [
    "# Q8.\n",
    "What is the mean area/wind/temp/RH per month? (10 points)"
   ]
  },
  {
   "cell_type": "code",
   "execution_count": 178,
   "metadata": {
    "id": "tZHYITgvPXtS"
   },
   "outputs": [
    {
     "name": "stdout",
     "output_type": "stream",
     "text": [
      "Mean per Month\n",
      "             area      wind       temp         RH\n",
      "month                                           \n",
      "jan     0.000000  2.000000   5.250000  89.000000\n",
      "feb     6.275000  3.755000   9.635000  55.700000\n",
      "mar     4.356667  4.968519  13.083333  40.000000\n",
      "apr     8.891111  4.666667  12.044444  46.888889\n",
      "may    19.240000  4.450000  14.650000  67.000000\n",
      "jun     5.841176  4.135294  20.494118  45.117647\n",
      "jul    14.369687  3.734375  22.109375  45.125000\n",
      "aug    12.489076  4.086413  21.631522  45.489130\n",
      "sep    17.942616  3.557558  19.612209  42.843023\n",
      "oct     6.638000  3.460000  17.093333  37.466667\n",
      "nov     0.000000  4.500000  11.800000  31.000000\n",
      "dec    13.330000  7.644444   4.522222  38.444444\n"
     ]
    }
   ],
   "source": [
    "# Computing the mean for area per month \n",
    "mean_perMonth = forest.groupby(by ='month', observed=False)[['area','wind','temp','RH']].mean()\n",
    "\n",
    "print(\"Mean per Month\\n\", mean_perMonth)\n"
   ]
  },
  {
   "cell_type": "markdown",
   "metadata": {
    "id": "dBSX3xe0QcOl"
   },
   "source": [
    "# Q9.\n",
    "How many observations are there in each month? Visualize by using a barplot in descending order. (10 points) [Relevant API 1](https://pandas.pydata.org/docs/reference/api/pandas.Series.value_counts.html) [Relevant API  2](https://matplotlib.org/stable/api/_as_gen/matplotlib.pyplot.hist.html)"
   ]
  },
  {
   "cell_type": "code",
   "execution_count": 182,
   "metadata": {
    "id": "ptG7kM2MQaLX"
   },
   "outputs": [
    {
     "data": {
      "image/png": "[encoded data removed]",
      "text/plain": [
       "<Figure size 2000x1200 with 1 Axes>"
      ]
     },
     "metadata": {},
     "output_type": "display_data"
    }
   ],
   "source": [
    "#Sorting Months based on value counts in descending order\n",
    "sorted_months = forest['month'].value_counts().index\n",
    "\n",
    "# Adjusting figure size \n",
    "plt.figure(figsize=(20,12))\n",
    "\n",
    "# Plotting bar graph using the value count of observations per month \n",
    "sns.countplot(x='month', data = forest, order = sorted_months, hue= 'month')\n",
    "\n",
    "# Adjusting y-axis limits\n",
    "plt.ylim(0,200)\n",
    "\n",
    "# Adding labels\n",
    "plt.title('Monthly Forest Fire Observation Count', fontsize = 25)\n",
    "plt.ylabel('Value Count', fontsize = 20)\n",
    "plt.xlabel('Month', fontsize = 20)\n",
    "\n",
    "plt.show()"
   ]
  },
  {
   "cell_type": "markdown",
   "metadata": {
    "id": "aAJoou94QgGT"
   },
   "source": [
    "# Q10.\n",
    "How many observations are there with burned area greater than zero in each month? Visualize by using a barplot in descending order. (10 points)"
   ]
  },
  {
   "cell_type": "code",
   "execution_count": 184,
   "metadata": {},
   "outputs": [
    {
     "name": "stdout",
     "output_type": "stream",
     "text": [
      "Monthly observations with burned area > 0 shown below:\n",
      "    month  count\n",
      "0    aug     99\n",
      "1    sep     97\n",
      "2    mar     19\n",
      "3    jul     18\n",
      "4    feb     10\n",
      "5    dec      9\n",
      "6    jun      8\n",
      "7    oct      5\n",
      "8    apr      4\n",
      "9    may      1\n",
      "10   jan      0\n",
      "11   nov      0\n"
     ]
    }
   ],
   "source": [
    "# Filter data by condition\n",
    "filtered_area = forest[forest['area'] > 0]\n",
    "\n",
    "# Group by 'month' and count the number of observations\n",
    "burned_area_counts = filtered_area['month'].value_counts().reset_index()\n",
    "\n",
    "# Renaming columns\n",
    "burned_area_counts.columns = ['month', 'count']\n",
    "\n",
    "# Sort the data\n",
    "burned_area_counts = burned_area_counts.sort_values(by='count', ascending=False)\n",
    "\n",
    "print(\"Monthly observations with burned area > 0 shown below:\\n\", burned_area_counts)"
   ]
  },
  {
   "cell_type": "code",
   "execution_count": 186,
   "metadata": {
    "id": "Flfqh9IuQk9g"
   },
   "outputs": [
    {
     "data": {
      "image/png": "[encoded data removed]",
      "text/plain": [
       "<Figure size 2000x1200 with 1 Axes>"
      ]
     },
     "metadata": {},
     "output_type": "display_data"
    }
   ],
   "source": [
    "# Adjusting figure size \n",
    "plt.figure(figsize=(20,12))\n",
    "\n",
    "# Plotting bar graph using the value count of observations per month \n",
    "sns.barplot(x='month', y= 'count', data = burned_area_counts, order = burned_area_counts['month'], hue= 'month')\n",
    "\n",
    "# Adjusting y-axis limits\n",
    "plt.ylim(0,110)\n",
    "\n",
    "# Adding labels\n",
    "plt.title('Monthly Count of Forest Fire Observations With Burned Area Greater Than 0', fontsize = 25)\n",
    "plt.ylabel('Value Count', fontsize = 20)\n",
    "plt.xlabel('Month', fontsize = 20)\n",
    "\n",
    "plt.show()"
   ]
  }
 ],
 "metadata": {
  "colab": {
   "provenance": []
  },
  "kernelspec": {
   "display_name": "Python 3 (ipykernel)",
   "language": "python",
   "name": "python3"
  },
  "language_info": {
   "codemirror_mode": {
    "name": "ipython",
    "version": 3
   },
   "file_extension": ".py",
   "mimetype": "text/x-python",
   "name": "python",
   "nbconvert_exporter": "python",
   "pygments_lexer": "ipython3",
   "version": "3.12.4"
  },
  "nteract": {
   "version": "0.25.0"
  },
  "varInspector": {
   "cols": {
    "lenName": 16,
    "lenType": 16,
    "lenVar": 40
   },
   "kernels_config": {
    "python": {
     "delete_cmd_postfix": "",
     "delete_cmd_prefix": "del ",
     "library": "var_list.py",
     "varRefreshCmd": "print(var_dic_list())"
    },
    "r": {
     "delete_cmd_postfix": ") ",
     "delete_cmd_prefix": "rm(",
     "library": "var_list.r",
     "varRefreshCmd": "cat(var_dic_list()) "
    }
   },
   "types_to_exclude": [
    "module",
    "function",
    "builtin_function_or_method",
    "instance",
    "_Feature"
   ],
   "window_display": false
  }
 },
 "nbformat": 4,
 "nbformat_minor": 4
}
